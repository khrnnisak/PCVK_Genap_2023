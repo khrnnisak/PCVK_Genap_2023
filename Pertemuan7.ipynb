{
  "nbformat": 4,
  "nbformat_minor": 0,
  "metadata": {
    "colab": {
      "provenance": [],
      "authorship_tag": "ABX9TyOoEvMCmJ9eEW734ZL1rfUr",
      "include_colab_link": true
    },
    "kernelspec": {
      "name": "python3",
      "display_name": "Python 3"
    },
    "language_info": {
      "name": "python"
    }
  },
  "cells": [
    {
      "cell_type": "markdown",
      "metadata": {
        "id": "view-in-github",
        "colab_type": "text"
      },
      "source": [
        "<a href=\"https://colab.research.google.com/github/khrnnisak/PCVK_Genap_2023/blob/master/Pertemuan7.ipynb\" target=\"_parent\"><img src=\"https://colab.research.google.com/assets/colab-badge.svg\" alt=\"Open In Colab\"/></a>"
      ]
    },
    {
      "cell_type": "code",
      "execution_count": 1,
      "metadata": {
        "id": "URRlFeOdX3yG",
        "outputId": "836be36f-7bfc-4271-aa1d-ecce723a7a55",
        "colab": {
          "base_uri": "https://localhost:8080/"
        }
      },
      "outputs": [
        {
          "output_type": "stream",
          "name": "stdout",
          "text": [
            "Mounted at /content/drive\n"
          ]
        }
      ],
      "source": [
        "from google.colab import drive\n",
        "\n",
        "drive.mount('/content/drive')"
      ]
    },
    {
      "cell_type": "code",
      "source": [
        "import numpy as np\n",
        "import matplotlib.pyplot as plt\n",
        "import cv2 as cv\n",
        "import math\n",
        "from google.colab.patches import cv2_imshow\n",
        "from PIL import Image as im"
      ],
      "metadata": {
        "id": "cp-i7oBkBu97"
      },
      "execution_count": 6,
      "outputs": []
    },
    {
      "cell_type": "markdown",
      "source": [
        "## Fungsi Konvolusi"
      ],
      "metadata": {
        "id": "syHzuIjiCY7N"
      }
    },
    {
      "cell_type": "code",
      "source": [
        "def convolution2d(img, kernel, stride, padding):\n",
        "\n",
        "  img = np.pad(img, padding, mode='constant', constant_values=0)\n",
        "\n",
        "  kernel_height, kernel_width = kernel.shape\n",
        "  padded_height, padded_width = image.shape\n",
        "\n",
        "  output_height = (padded_height - kernel_height) // stride + 1\n",
        "  output_width = (padded_width - kernel_width) // stride + 1\n",
        "\n",
        "  result = np.zeros((output_height, output_width)).astype(np.float32)\n",
        "\n",
        "  for y in range(0, output_height):\n",
        "    for x in range(0, output_width):\n",
        "      result[y][x] = np.sum(image[y * stride:y * stride + kernel_height, x * stride:x * stride + kernel_width] * kernel).astype(np.float32)\n",
        "      \n",
        "  return result"
      ],
      "metadata": {
        "id": "A3xvO1XkCSAh"
      },
      "execution_count": 9,
      "outputs": []
    },
    {
      "cell_type": "code",
      "source": [
        "\n",
        "image = cv.imread('/content/drive/MyDrive/PCVK/mandrill.tiff')\n",
        "img_gray = cv.cvtColor(image, cv.COLOR_BGR2GRAY)\n",
        "cv2.imshow(img_gray)"
      ],
      "metadata": {
        "id": "hKRcCwjXCmo0",
        "outputId": "faea5c17-92e0-4e5a-a9a6-17b487b223b7",
        "colab": {
          "base_uri": "https://localhost:8080/",
          "height": 201
        }
      },
      "execution_count": 11,
      "outputs": [
        {
          "output_type": "error",
          "ename": "NameError",
          "evalue": "ignored",
          "traceback": [
            "\u001b[0;31m---------------------------------------------------------------------------\u001b[0m",
            "\u001b[0;31mNameError\u001b[0m                                 Traceback (most recent call last)",
            "\u001b[0;32m<ipython-input-11-5862accdd76d>\u001b[0m in \u001b[0;36m<cell line: 3>\u001b[0;34m()\u001b[0m\n\u001b[1;32m      1\u001b[0m \u001b[0mimage\u001b[0m \u001b[0;34m=\u001b[0m \u001b[0mcv\u001b[0m\u001b[0;34m.\u001b[0m\u001b[0mimread\u001b[0m\u001b[0;34m(\u001b[0m\u001b[0;34m'/content/drive/MyDrive/PCVK/mandrill.tiff'\u001b[0m\u001b[0;34m)\u001b[0m\u001b[0;34m\u001b[0m\u001b[0;34m\u001b[0m\u001b[0m\n\u001b[1;32m      2\u001b[0m \u001b[0mimg_gray\u001b[0m \u001b[0;34m=\u001b[0m \u001b[0mcv\u001b[0m\u001b[0;34m.\u001b[0m\u001b[0mcvtColor\u001b[0m\u001b[0;34m(\u001b[0m\u001b[0mimage\u001b[0m\u001b[0;34m,\u001b[0m \u001b[0mcv\u001b[0m\u001b[0;34m.\u001b[0m\u001b[0mCOLOR_BGR2GRAY\u001b[0m\u001b[0;34m)\u001b[0m\u001b[0;34m\u001b[0m\u001b[0;34m\u001b[0m\u001b[0m\n\u001b[0;32m----> 3\u001b[0;31m \u001b[0mcv2\u001b[0m\u001b[0;34m.\u001b[0m\u001b[0mimshow\u001b[0m\u001b[0;34m(\u001b[0m\u001b[0mimg_gray\u001b[0m\u001b[0;34m)\u001b[0m\u001b[0;34m\u001b[0m\u001b[0;34m\u001b[0m\u001b[0m\n\u001b[0m",
            "\u001b[0;31mNameError\u001b[0m: name 'cv2' is not defined"
          ]
        }
      ]
    },
    {
      "cell_type": "code",
      "source": [],
      "metadata": {
        "id": "fpF4EBKnC9wi"
      },
      "execution_count": null,
      "outputs": []
    }
  ]
}